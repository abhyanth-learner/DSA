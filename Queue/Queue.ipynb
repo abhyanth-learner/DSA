{
 "cells": [
  {
   "cell_type": "markdown",
   "id": "15329397",
   "metadata": {},
   "source": [
    "QUEUE WITHOUT LIMIT USING LIST"
   ]
  },
  {
   "cell_type": "code",
   "execution_count": 2,
   "id": "0f765d8f",
   "metadata": {},
   "outputs": [],
   "source": [
    "class queue:\n",
    "    def __init__(self):\n",
    "        self.items=[]\n",
    "    def __str__(self):\n",
    "        res=[str(i) for i in self.items]\n",
    "        return ' '.join(res)\n",
    "    def is_empty(self):\n",
    "        if self.items==[]:\n",
    "            return True\n",
    "        return False\n",
    "    def enqueue(self,value):\n",
    "        self.items.append(value)\n",
    "        return \"Value added to queue\"\n",
    "    def dequeue(self):\n",
    "        if(self.is_empty()):\n",
    "            return \"Queue is empty\"\n",
    "        else:\n",
    "            return str(self.items.pop(0))\n",
    "    def peek(self):\n",
    "        if(self.is_empty()):\n",
    "            return \"Queue is empty\"\n",
    "        else:\n",
    "            return str(self.items[0])       \n",
    "    def delete(self):\n",
    "        self.items=[]\n",
    "     "
   ]
  },
  {
   "cell_type": "code",
   "execution_count": 11,
   "id": "831813da",
   "metadata": {},
   "outputs": [
    {
     "name": "stdout",
     "output_type": "stream",
     "text": [
      "10 20 30 40\n",
      "20 30 40\n",
      "20\n",
      "True\n"
     ]
    }
   ],
   "source": [
    "que=queue()\n",
    "que.enqueue(10)\n",
    "que.enqueue(20)\n",
    "que.enqueue(30)\n",
    "que.enqueue(40)\n",
    "print(que)\n",
    "que.dequeue()\n",
    "print(que)\n",
    "print(que.peek())\n",
    "que.delete()\n",
    "print(que.is_empty())"
   ]
  },
  {
   "cell_type": "code",
   "execution_count": 35,
   "id": "48284c37",
   "metadata": {},
   "outputs": [],
   "source": [
    "class FixedCapacityQueue:\n",
    "    def __init__(self,maxsize):\n",
    "        self.items=maxsize*[None]\n",
    "        self.maxsize=maxsize\n",
    "        self.top=-1\n",
    "        self.start=-1\n",
    "    def __str__(self):\n",
    "        values=[str(i) for i in self.items]\n",
    "        return ' '.join(values)  \n",
    "    def isFull(self):\n",
    "        if (self.top+1==self.start):\n",
    "            return True\n",
    "        elif (self.top+1==self.maxsize and self.start==0):\n",
    "            return True\n",
    "        else:\n",
    "            return False\n",
    "    def isEmpty(self):\n",
    "        if(self.top==-1):\n",
    "            return True\n",
    "        else:\n",
    "            return False\n",
    "    def enqueue(self,value):\n",
    "        if(self.isFull()):\n",
    "            return \"Queue is Full\"\n",
    "        else:\n",
    "            if(self.top+1==self.maxsize):\n",
    "                self.top=0\n",
    "            else:\n",
    "                self.top+=1\n",
    "                if(self.start==-1):\n",
    "                    self.start=0\n",
    "            self.items[self.top]=value\n",
    "            return \"Value added to queue\"\n",
    "    def dequeue(self):\n",
    "        if(self.isEmpty()):\n",
    "            return \"Queue is empty\"\n",
    "        else:\n",
    "            first_element=self.items[self.start]\n",
    "            start=self.start\n",
    "            if self.start==self.top:\n",
    "                self.top=-1\n",
    "                self.start=-1\n",
    "            elif self.start+1==self.maxsize:\n",
    "                self.start=0\n",
    "            else:\n",
    "                self.start+=1\n",
    "            self.items[start]=None\n",
    "        return first_element\n",
    "    def peek(self):\n",
    "        if(self.isEmpty()):\n",
    "            return \"Queue is empty\"\n",
    "        else:\n",
    "            return self.items[self.start]\n",
    "    def delete(self):\n",
    "        self.items=self.maxsize*[None]\n",
    "        self.top=-1\n",
    "        self.start=-1"
   ]
  },
  {
   "cell_type": "code",
   "execution_count": 36,
   "id": "e66fc2dc",
   "metadata": {},
   "outputs": [
    {
     "name": "stdout",
     "output_type": "stream",
     "text": [
      "None\n",
      "None None None None None\n",
      "None None None None None\n"
     ]
    }
   ],
   "source": [
    "llQueue=FixedCapacityQueue(5)\n",
    "llQueue.enqueue(1)\n",
    "llQueue.enqueue(2)\n",
    "llQueue.enqueue(3)\n",
    "llQueue.enqueue(4)\n",
    "llQueue.enqueue(5)\n",
    "print(llQueue.delete())\n",
    "print(llQueue)\n",
    "\n",
    "print(llQueue)"
   ]
  },
  {
   "cell_type": "code",
   "execution_count": 6,
   "id": "d3b4b7f1",
   "metadata": {},
   "outputs": [],
   "source": [
    "class Node:\n",
    "    def __init__(self,value):\n",
    "        self.value=value\n",
    "        self.next=None\n",
    "    def __str__(self):\n",
    "        return str(self.value)\n",
    "\n",
    "class LinkedList:\n",
    "    def __init__(self):\n",
    "        self.head=None\n",
    "        self.tail=None\n",
    "    def __iter__(self):\n",
    "        current=self.head\n",
    "        while current:\n",
    "            yield current\n",
    "            current=current.next\n",
    "\n",
    "class LinkedListQueue:\n",
    "    def __init__(self):\n",
    "        self.queue=LinkedList()\n",
    "    def __str__(self):\n",
    "        values = [str(x) for x in self.queue]\n",
    "        return ' '.join(values)        \n",
    "    def enqueue(self,value):\n",
    "        new_node=Node(value)\n",
    "        if(self.queue.head==None):\n",
    "            self.queue.head=new_node\n",
    "            self.queue.tail=new_node\n",
    "        else:\n",
    "            self.queue.tail.next=new_node\n",
    "            self.queue.tail=new_node\n",
    "    def isEmpty(self):\n",
    "        if(self.queue.head==None):\n",
    "            return True\n",
    "        else:\n",
    "            return False\n",
    "    def dequeue(self):\n",
    "        if(self.isEmpty()):\n",
    "            return \"Queue is empty\"\n",
    "        elif(self.queue.head==self.queue.tail):\n",
    "            popped_node=self.queue.head\n",
    "            self.queue.head=None\n",
    "            self.queue.tail=None\n",
    "        else:\n",
    "            popped_node=self.queue.head\n",
    "            self.queue.head=self.queue.head.next\n",
    "            popped_node.next=None\n",
    "        return popped_node\n",
    "    def peek(self):\n",
    "        if(self.isEmpty()):\n",
    "            return \"Queue is empty\"\n",
    "        else:\n",
    "            return self.queue.head\n",
    "    def delete(self):\n",
    "            self.queue.head=None\n",
    "            self.queue.tail=None       \n"
   ]
  },
  {
   "cell_type": "code",
   "execution_count": 8,
   "id": "8f6ea567",
   "metadata": {},
   "outputs": [
    {
     "name": "stdout",
     "output_type": "stream",
     "text": [
      "1 2 3 4\n",
      "2 3 4\n"
     ]
    }
   ],
   "source": [
    "llQueue=LinkedListQueue()\n",
    "llQueue.enqueue(1)\n",
    "llQueue.enqueue(2)\n",
    "llQueue.enqueue(3)\n",
    "llQueue.enqueue(4)\n",
    "print(llQueue)\n",
    "llQueue.dequeue()\n",
    "print(llQueue)"
   ]
  },
  {
   "cell_type": "markdown",
   "id": "8db59e55",
   "metadata": {},
   "source": [
    "QUEUE USING COLLECTION LIB"
   ]
  },
  {
   "cell_type": "code",
   "execution_count": null,
   "id": "893bb4d2",
   "metadata": {},
   "outputs": [
    {
     "name": "stdout",
     "output_type": "stream",
     "text": [
      "deque([], maxlen=4)\n",
      "deque([2, 3, 4, 5], maxlen=4)\n"
     ]
    }
   ],
   "source": [
    "from collections import deque\n",
    "\n",
    "customQueue=deque(maxlen=4)\n",
    "print(customQueue)\n",
    "customQueue.append(1)\n",
    "customQueue.append(2)\n",
    "customQueue.append(3)\n",
    "customQueue.append(4)\n",
    "customQueue.append(5) #the first element gets overidden\n",
    "print(customQueue)"
   ]
  },
  {
   "cell_type": "code",
   "execution_count": null,
   "id": "a530082f",
   "metadata": {},
   "outputs": [],
   "source": []
  }
 ],
 "metadata": {
  "kernelspec": {
   "display_name": "base",
   "language": "python",
   "name": "python3"
  },
  "language_info": {
   "codemirror_mode": {
    "name": "ipython",
    "version": 3
   },
   "file_extension": ".py",
   "mimetype": "text/x-python",
   "name": "python",
   "nbconvert_exporter": "python",
   "pygments_lexer": "ipython3",
   "version": "3.12.7"
  }
 },
 "nbformat": 4,
 "nbformat_minor": 5
}
