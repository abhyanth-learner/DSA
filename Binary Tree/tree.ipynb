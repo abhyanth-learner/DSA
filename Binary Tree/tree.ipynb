{
 "cells": [
  {
   "cell_type": "code",
   "execution_count": null,
   "id": "71a53830",
   "metadata": {},
   "outputs": [],
   "source": [
    "TREE"
   ]
  },
  {
   "cell_type": "code",
   "execution_count": null,
   "id": "b4a910a7",
   "metadata": {},
   "outputs": [],
   "source": [
    "class TreeNode:\n",
    "    def __init__(self,data,children=[]):\n",
    "        self.data=data\n",
    "        self.children=children\n",
    "    def __str__(self,level=0):\n",
    "        ret=\" \"*level+str(self.data)+\"\\n\"\n",
    "        for child in self.children:\n",
    "            ret+=child.__str__(level+1)\n",
    "        return ret  \n",
    "    def addChild(self,TreeNode):\n",
    "        self.children.append(TreeNode)\n",
    "    \n",
    "      "
   ]
  },
  {
   "cell_type": "code",
   "execution_count": null,
   "id": "4bbd7b47",
   "metadata": {},
   "outputs": [
    {
     "name": "stdout",
     "output_type": "stream",
     "text": [
      "Drinks\n",
      " Cold\n",
      "  Fanta\n",
      "  Sprite\n",
      "  Pepsi\n",
      " Hot\n",
      "  Beer\n",
      "  Whisky\n",
      "\n"
     ]
    }
   ],
   "source": [
    "tree=TreeNode('Drinks',[])\n",
    "cold=TreeNode('Cold',[])\n",
    "hot=TreeNode('Hot',[])\n",
    "pepsi=TreeNode('Pepsi',[])\n",
    "fanta=TreeNode('Fanta',[])\n",
    "sprite=TreeNode('Sprite',[])\n",
    "beer=TreeNode('Beer',[])\n",
    "whisky=TreeNode('Whisky',[])\n",
    "tree.addChild(cold)\n",
    "tree.addChild(hot)\n",
    "cold.addChild(fanta)\n",
    "cold.addChild(sprite)\n",
    "cold.addChild(pepsi)\n",
    "hot.addChild(beer)\n",
    "hot.addChild(whisky)\n",
    "print(tree)"
   ]
  },
  {
   "cell_type": "code",
   "execution_count": null,
   "id": "34fbb103",
   "metadata": {},
   "outputs": [],
   "source": []
  }
 ],
 "metadata": {
  "kernelspec": {
   "display_name": "base",
   "language": "python",
   "name": "python3"
  },
  "language_info": {
   "codemirror_mode": {
    "name": "ipython",
    "version": 3
   },
   "file_extension": ".py",
   "mimetype": "text/x-python",
   "name": "python",
   "nbconvert_exporter": "python",
   "pygments_lexer": "ipython3",
   "version": "3.12.7"
  }
 },
 "nbformat": 4,
 "nbformat_minor": 5
}
