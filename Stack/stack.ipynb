{
 "cells": [
  {
   "cell_type": "markdown",
   "id": "e00ee79a",
   "metadata": {},
   "source": [
    "STACK"
   ]
  },
  {
   "cell_type": "code",
   "execution_count": 21,
   "id": "17badb15",
   "metadata": {},
   "outputs": [],
   "source": [
    "class Stack:\n",
    "    def __init__(self):\n",
    "        self.items=[]\n",
    "    def is_empty(self):\n",
    "        return len(self.items)==0\n",
    "    def __str__(self):\n",
    "        if(self.is_empty()):\n",
    "            return \"Stack is empty\"\n",
    "        else:\n",
    "            values=[str(x) for x in reversed(self.items)]\n",
    "            return '\\t'.join(values)\n",
    "    def push(self,element):\n",
    "        self.items.append(element)\n",
    "    def pop(self):\n",
    "        if(self.is_empty()):\n",
    "            return Exception(\"Stack is empty\")\n",
    "        return self.items.pop()\n",
    "    def peek(self):\n",
    "        if(self.is_empty()):\n",
    "            return Exception(\"Stack is empty\")\n",
    "        return self.items[-1]\n",
    "    def size(self):\n",
    "        return len(self.items)\n",
    "    def clear(self):\n",
    "        self.items=None\n",
    "    "
   ]
  },
  {
   "cell_type": "code",
   "execution_count": null,
   "id": "0b133cb5",
   "metadata": {},
   "outputs": [
    {
     "name": "stdout",
     "output_type": "stream",
     "text": [
      "40\n",
      "40\t30\t20\t10\n",
      "40\n",
      "30\n",
      "20\n",
      "10\n",
      "Stack is empty\n"
     ]
    }
   ],
   "source": [
    "my_stack=Stack()\n",
    "my_stack.push(10)\n",
    "my_stack.push(20)\n",
    "my_stack.push(30)\n",
    "my_stack.push(40)\n",
    "print(my_stack.peek())\n",
    "print(my_stack)\n",
    "print(my_stack.pop())"
   ]
  },
  {
   "cell_type": "markdown",
   "id": "df38840b",
   "metadata": {},
   "source": [
    "STACK USING LINKED LIST"
   ]
  },
  {
   "cell_type": "code",
   "execution_count": 26,
   "id": "4b153049",
   "metadata": {},
   "outputs": [],
   "source": [
    "class node:\n",
    "    def __init__(self,value):\n",
    "        self.value=value\n",
    "        self.next=None\n",
    "    def __str__(self):\n",
    "        return str(self.value)"
   ]
  },
  {
   "cell_type": "code",
   "execution_count": 45,
   "id": "0a22f42b",
   "metadata": {},
   "outputs": [],
   "source": [
    "class stackLL:\n",
    "    def __init__(self):\n",
    "        self.top=None\n",
    "        self.length=0\n",
    "    def __str__(self):\n",
    "        current=self.top\n",
    "        res=\"\"\n",
    "        while current is not None:\n",
    "            res+=str(current.value)\n",
    "            if current.next:\n",
    "                res+=\" -> \"\n",
    "            current=current.next\n",
    "        return res    \n",
    "    def push(self,value):\n",
    "        new_node=node(value)\n",
    "        if (self.length==0):\n",
    "            self.top=new_node\n",
    "        else:\n",
    "            new_node.next=self.top\n",
    "            self.top=new_node\n",
    "        self.length+=1\n",
    "    def pop(self):\n",
    "        if(self.length==0):\n",
    "            return Exception(\"Stack is empty\")\n",
    "        elif(self.length==1):\n",
    "            popped_node=self.top\n",
    "            self.top=None\n",
    "        else:\n",
    "            popped_node=self.top\n",
    "            self.top=self.top.next\n",
    "            popped_node.next=None\n",
    "        self.length-=1\n",
    "        return popped_node\n",
    "    def peek(self):\n",
    "        if(self.length==0):\n",
    "            return Exception(\"Stack is empty\")\n",
    "        else:\n",
    "            return self.top\n",
    "    def isEmpty(self):\n",
    "        return self.length==0\n",
    "    def size(self):\n",
    "        return self.length\n",
    "    def clear(self):\n",
    "        self.top=None\n",
    "        self.length=0\n",
    "        "
   ]
  },
  {
   "cell_type": "code",
   "execution_count": 50,
   "id": "69d12fcc",
   "metadata": {},
   "outputs": [
    {
     "name": "stdout",
     "output_type": "stream",
     "text": [
      "30 -> 20 -> 10\n",
      "None\n",
      "\n"
     ]
    }
   ],
   "source": [
    "LL_stack=stackLL()\n",
    "LL_stack.push(10)\n",
    "LL_stack.push(20)\n",
    "LL_stack.push(30)\n",
    "print(LL_stack)\n",
    "print(LL_stack.clear())\n",
    "print(LL_stack)"
   ]
  },
  {
   "cell_type": "code",
   "execution_count": null,
   "id": "4273d8cc",
   "metadata": {},
   "outputs": [],
   "source": []
  }
 ],
 "metadata": {
  "kernelspec": {
   "display_name": "base",
   "language": "python",
   "name": "python3"
  },
  "language_info": {
   "codemirror_mode": {
    "name": "ipython",
    "version": 3
   },
   "file_extension": ".py",
   "mimetype": "text/x-python",
   "name": "python",
   "nbconvert_exporter": "python",
   "pygments_lexer": "ipython3",
   "version": "3.12.7"
  }
 },
 "nbformat": 4,
 "nbformat_minor": 5
}
