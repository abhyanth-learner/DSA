{
 "cells": [
  {
   "cell_type": "markdown",
   "id": "259b17e5",
   "metadata": {},
   "source": [
    "RECURSION"
   ]
  },
  {
   "cell_type": "code",
   "execution_count": 27,
   "id": "270c500e",
   "metadata": {},
   "outputs": [],
   "source": [
    "def sumOfDigits(n):\n",
    "    assert n>=0 and int(n)==n ,'The number has to be a positive integer only'\n",
    "    if n==0:\n",
    "        return n\n",
    "    else:\n",
    "        return int(n%10)+sumOfDigits(int(n/10))\n",
    "def power(base,exp):\n",
    "    assert int(exp)==exp,\"Exponent must be an integer number only\"\n",
    "    if(exp==0):\n",
    "        return 1\n",
    "    elif(exp<0):\n",
    "        return 1/base*power(base,exp+1)\n",
    "    else:\n",
    "        return base*power(base,exp-1)\n",
    "    \n",
    "def gcd(a,b):\n",
    "    assert int(a)==a and int(b)==b,\"The numbers must be integer only\"\n",
    "    if(a<0):\n",
    "        a=-1*a\n",
    "    if(b<0):\n",
    "        b=-1*b\n",
    "    if(b==0):\n",
    "        return a\n",
    "    else:\n",
    "        return gcd(b,a%b)\n",
    "\n",
    "def decimalToBinary(n):\n",
    "    assert int(n)==n,\"The parametr must be an integer\"\n",
    "    if(n==0):\n",
    "        return 0\n",
    "    else:\n",
    "        return n%2+10*decimalToBinary(int(n/2))"
   ]
  },
  {
   "cell_type": "code",
   "execution_count": 30,
   "id": "8d5397d9",
   "metadata": {},
   "outputs": [
    {
     "name": "stdout",
     "output_type": "stream",
     "text": [
      "10000000000\n"
     ]
    }
   ],
   "source": [
    "print(decimalToBinary(1024))"
   ]
  },
  {
   "cell_type": "code",
   "execution_count": 23,
   "id": "485f775d",
   "metadata": {},
   "outputs": [
    {
     "data": {
      "text/plain": [
       "1"
      ]
     },
     "execution_count": 23,
     "metadata": {},
     "output_type": "execute_result"
    }
   ],
   "source": [
    "1%2"
   ]
  },
  {
   "cell_type": "code",
   "execution_count": 24,
   "id": "5a0e0de3",
   "metadata": {},
   "outputs": [
    {
     "data": {
      "text/plain": [
       "0"
      ]
     },
     "execution_count": 24,
     "metadata": {},
     "output_type": "execute_result"
    }
   ],
   "source": [
    "int(1/2)"
   ]
  },
  {
   "cell_type": "code",
   "execution_count": null,
   "id": "c2454ed2",
   "metadata": {},
   "outputs": [],
   "source": []
  }
 ],
 "metadata": {
  "kernelspec": {
   "display_name": "base",
   "language": "python",
   "name": "python3"
  },
  "language_info": {
   "codemirror_mode": {
    "name": "ipython",
    "version": 3
   },
   "file_extension": ".py",
   "mimetype": "text/x-python",
   "name": "python",
   "nbconvert_exporter": "python",
   "pygments_lexer": "ipython3",
   "version": "3.12.7"
  }
 },
 "nbformat": 4,
 "nbformat_minor": 5
}
